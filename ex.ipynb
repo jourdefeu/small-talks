{
 "cells": [
  {
   "cell_type": "markdown",
   "id": "418f21d7",
   "metadata": {},
   "source": [
    "В качестве входных данных программа принимает три строки, представляющих собой цифры. Каждая цифра должна быть введена как отдельный символ типа `str`. Программа должна вывести каждую из этих цифр на отдельной строке."
   ]
  },
  {
   "cell_type": "code",
   "execution_count": null,
   "id": "1e74361a",
   "metadata": {},
   "outputs": [],
   "source": [
    "[print(str(input())) for i in range(3)]"
   ]
  },
  {
   "cell_type": "markdown",
   "id": "79435fa2",
   "metadata": {},
   "source": [
    "Программа принимает на вход строку. Необходимо вывести первые три буквы этой строки."
   ]
  },
  {
   "cell_type": "code",
   "execution_count": 2,
   "id": "022e0f15",
   "metadata": {},
   "outputs": [
    {
     "name": "stdout",
     "output_type": "stream",
     "text": [
      "apple\n",
      "app\n"
     ]
    }
   ],
   "source": [
    "a = input()\n",
    "print(a[:3])"
   ]
  },
  {
   "cell_type": "markdown",
   "id": "4fbb0fc9",
   "metadata": {},
   "source": [
    "Нам даны два отсортированных массива nums1 и nums2 размером m и n соответственно. \n",
    "\n",
    "Нам нужно объединить эти два массива в один отсортированный массив, а результат хранить внутри nums1. "
   ]
  },
  {
   "cell_type": "code",
   "execution_count": 5,
   "id": "4a7eefba",
   "metadata": {},
   "outputs": [],
   "source": [
    "# Решение 1\n",
    "\n",
    "class Solution(object):\n",
    "    def merge(self, nums1, m, nums2, n):\n",
    "        i = m - 1\n",
    "        j = n - 1\n",
    "        k = m + n - 1\n",
    "\n",
    "        while j >= 0:\n",
    "            if i >= 0 and nums1[i] > nums2[j]:\n",
    "                nums1[k] = nums1[i]\n",
    "                i -= 1\n",
    "            else:\n",
    "                nums1[k] = nums2[j]\n",
    "                j -= 1\n",
    "            k -= 1"
   ]
  },
  {
   "cell_type": "code",
   "execution_count": null,
   "id": "2896a971",
   "metadata": {},
   "outputs": [],
   "source": [
    "# Решение 2\n",
    "\n",
    "class Solution(object):\n",
    "    def merge(self, nums1, m, nums2, n):\n",
    "      for j in range(n):\n",
    "          nums1[m+j] = nums2[j]\n",
    "      nums1.sort()"
   ]
  },
  {
   "cell_type": "markdown",
   "id": "71e988e2",
   "metadata": {},
   "source": [
    "Изменить массив nums так, чтобы первые k элементов nums содержали элементы, не равные val. \n",
    "\n",
    "Вернуть k."
   ]
  },
  {
   "cell_type": "code",
   "execution_count": null,
   "id": "1f73b197",
   "metadata": {},
   "outputs": [],
   "source": [
    "class Solution(object):\n",
    "    def removeElement(self, nums, val):\n",
    "        k = 0\n",
    "        for i in nums:\n",
    "            if i != val:\n",
    "                nums[k] = i\n",
    "                k += 1\n",
    "        return k"
   ]
  },
  {
   "cell_type": "markdown",
   "id": "b3643684",
   "metadata": {},
   "source": [
    "Изменить отсортированный массив nums таким образом, чтобы первые k элементов nums содержали уникальные элементы в том порядке, в котором они присутствовали в nums изначально. \n",
    "\n",
    "Вернуть k."
   ]
  },
  {
   "cell_type": "code",
   "execution_count": null,
   "id": "d7df7ffb",
   "metadata": {},
   "outputs": [],
   "source": [
    "class Solution(object):\n",
    "    def removeDuplicates(self, nums):\n",
    "        k = 1\n",
    "        for i in range(1, len(nums)):\n",
    "            if nums[i-1] != nums[i]:\n",
    "                nums[k] = nums[i]\n",
    "                k += 1\n",
    "        return k"
   ]
  },
  {
   "cell_type": "code",
   "execution_count": null,
   "id": "0622d1d4",
   "metadata": {},
   "outputs": [],
   "source": []
  },
  {
   "cell_type": "code",
   "execution_count": null,
   "id": "d8d44854",
   "metadata": {},
   "outputs": [],
   "source": []
  }
 ],
 "metadata": {
  "kernelspec": {
   "display_name": "Python 3 (ipykernel)",
   "language": "python",
   "name": "python3"
  },
  "language_info": {
   "codemirror_mode": {
    "name": "ipython",
    "version": 3
   },
   "file_extension": ".py",
   "mimetype": "text/x-python",
   "name": "python",
   "nbconvert_exporter": "python",
   "pygments_lexer": "ipython3",
   "version": "3.7.16"
  }
 },
 "nbformat": 4,
 "nbformat_minor": 5
}
