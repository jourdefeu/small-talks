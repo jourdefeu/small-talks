{
 "cells": [
  {
   "cell_type": "markdown",
   "id": "324c1d93",
   "metadata": {},
   "source": [
    "В качестве входных данных программа принимает три строки, представляющих собой цифры. Каждая цифра должна быть введена как отдельный символ типа `str`. Программа должна вывести каждую из этих цифр на отдельной строке."
   ]
  },
  {
   "cell_type": "code",
   "execution_count": null,
   "id": "bdb6f663",
   "metadata": {},
   "outputs": [],
   "source": [
    "[print(str(input())) for i in range(3)]"
   ]
  },
  {
   "cell_type": "markdown",
   "id": "7ed0430e",
   "metadata": {},
   "source": [
    "Программа принимает на вход строку. Необходимо вывести первые три буквы этой строки."
   ]
  },
  {
   "cell_type": "code",
   "execution_count": 2,
   "id": "7e3c1cb8",
   "metadata": {},
   "outputs": [
    {
     "name": "stdout",
     "output_type": "stream",
     "text": [
      "apple\n",
      "app\n"
     ]
    }
   ],
   "source": [
    "a = input()\n",
    "print(a[:3])"
   ]
  },
  {
   "cell_type": "markdown",
   "id": "2f2bb6a9",
   "metadata": {},
   "source": [
    "Нам даны два отсортированных массива nums1 и nums2 размером m и n соответственно. \n",
    "\n",
    "Нам нужно объединить эти два массива в один отсортированный массив, а результат хранить внутри nums1. "
   ]
  },
  {
   "cell_type": "code",
   "execution_count": 5,
   "id": "d5263528",
   "metadata": {},
   "outputs": [],
   "source": [
    "# Решение 1\n",
    "\n",
    "class Solution(object):\n",
    "    def merge(self, nums1, m, nums2, n):\n",
    "        i = m - 1\n",
    "        j = n - 1\n",
    "        k = m + n - 1\n",
    "\n",
    "        while j >= 0:\n",
    "            if i >= 0 and nums1[i] > nums2[j]:\n",
    "                nums1[k] = nums1[i]\n",
    "                i -= 1\n",
    "            else:\n",
    "                nums1[k] = nums2[j]\n",
    "                j -= 1\n",
    "            k -= 1"
   ]
  },
  {
   "cell_type": "code",
   "execution_count": null,
   "id": "538878f1",
   "metadata": {},
   "outputs": [],
   "source": [
    "# Решение 2\n",
    "\n",
    "class Solution(object):\n",
    "    def merge(self, nums1, m, nums2, n):\n",
    "      for j in range(n):\n",
    "          nums1[m+j] = nums2[j]\n",
    "      nums1.sort()"
   ]
  },
  {
   "cell_type": "markdown",
   "id": "0ec21628",
   "metadata": {},
   "source": [
    "Изменить массив nums так, чтобы первые k элементов nums содержали элементы, не равные val. \n",
    "\n",
    "Вернуть k."
   ]
  },
  {
   "cell_type": "code",
   "execution_count": null,
   "id": "640f749d",
   "metadata": {},
   "outputs": [],
   "source": [
    "class Solution(object):\n",
    "    def removeElement(self, nums, val):\n",
    "        k = 0\n",
    "        for i in nums:\n",
    "            if i != val:\n",
    "                nums[k] = i\n",
    "                k += 1\n",
    "        return k"
   ]
  },
  {
   "cell_type": "markdown",
   "id": "1b8f6f7a",
   "metadata": {},
   "source": [
    "Изменить отсортированный массив nums таким образом, чтобы первые k элементов nums содержали уникальные элементы в том порядке, в котором они присутствовали в nums изначально. \n",
    "\n",
    "Вернуть k."
   ]
  },
  {
   "cell_type": "code",
   "execution_count": null,
   "id": "bf3d4877",
   "metadata": {},
   "outputs": [],
   "source": [
    "class Solution(object):\n",
    "    def removeDuplicates(self, nums):\n",
    "        k = 1\n",
    "        for i in range(1, len(nums)):\n",
    "            if nums[i-1] != nums[i]:\n",
    "                nums[k] = nums[i]\n",
    "                k += 1\n",
    "        return k"
   ]
  },
  {
   "cell_type": "markdown",
   "id": "bf9cd5dc",
   "metadata": {},
   "source": [
    "А теперь чтобы в списке повторяющихся элементов было не больше двух"
   ]
  },
  {
   "cell_type": "code",
   "execution_count": null,
   "id": "f318a71b",
   "metadata": {},
   "outputs": [],
   "source": [
    "class Solution(object):\n",
    "    def removeDuplicates(self, nums):\n",
    "        k = 1\n",
    "        for i in range(1, len(nums)):\n",
    "            if k==1 or nums[i] != nums[k-2]:\n",
    "                nums[k] = nums[i]\n",
    "                k += 1\n",
    "        return k"
   ]
  },
  {
   "cell_type": "markdown",
   "id": "0866e5c7",
   "metadata": {},
   "source": [
    "Найти число, повторяющееся в списке больше половины раз"
   ]
  },
  {
   "cell_type": "code",
   "execution_count": null,
   "id": "3e14f586",
   "metadata": {},
   "outputs": [],
   "source": [
    "class Solution(object):\n",
    "    def majorityElement(self, nums):\n",
    "        # Инициализация подсчета и кандидата на большинство\n",
    "        count = 0\n",
    "        majority = 0\n",
    "\n",
    "        # Перемещение по списку\n",
    "        for i in range(len(nums)):\n",
    "            if count == 0 and majority != nums[i]:\n",
    "                # Если счетчик равен 0 и кандидат на большинство отличается от текущего элемента,\n",
    "                # обновите кандидата на большинство и установите счетчик на 1\n",
    "                majority = nums[i]\n",
    "                count += 1\n",
    "            elif majority == nums[i]:\n",
    "                # Если текущий элемент совпадает с кандидатом на большинство,\n",
    "                # увеличить счет\n",
    "                count += 1\n",
    "            else:\n",
    "                # Если текущий элемент отличается от кандидата на большинство,\n",
    "                # уменьшить счет\n",
    "                count -= 1\n",
    "\n",
    "        return majority"
   ]
  },
  {
   "cell_type": "markdown",
   "id": "5f6ec510",
   "metadata": {},
   "source": [
    "Передвинуть массив на k чисел\n",
    "\n",
    "[1, 2, 3, 4] -> [4, 1, 2, 3] при k=1"
   ]
  },
  {
   "cell_type": "code",
   "execution_count": null,
   "id": "29b44b91",
   "metadata": {},
   "outputs": [],
   "source": [
    "class Solution(object):\n",
    "    def reverse(self, nums, start, end):\n",
    "        while start < end:\n",
    "            serv = nums[start]\n",
    "            nums[start] = nums[end]\n",
    "            nums[end] = serv\n",
    "            start += 1\n",
    "            end -= 1\n",
    "\n",
    "    def rotate(self, nums, k):\n",
    "        k %= len(nums)\n",
    "        self.reverse(nums, 0, len(nums)-1)\n",
    "        self.reverse(nums, 0, k-1)\n",
    "        self.reverse(nums, k, len(nums)-1)"
   ]
  },
  {
   "cell_type": "markdown",
   "id": "b5a8cc6d",
   "metadata": {},
   "source": [
    "Выбрать один день для покупки акции, дрегой - для продажи. Вернуть максимальную прибыль.\n",
    "\n",
    "Если прибыли нет, вернуть 0."
   ]
  },
  {
   "cell_type": "code",
   "execution_count": null,
   "id": "13a17725",
   "metadata": {},
   "outputs": [],
   "source": [
    "class Solution(object):\n",
    "    def maxProfit(self, prices):\n",
    "        profit = 0\n",
    "        buy = prices[0]\n",
    "        for sell in prices[1:]:\n",
    "            if sell > buy:\n",
    "                profit = max(profit, sell - buy)\n",
    "            else:\n",
    "                buy = sell\n",
    "        \n",
    "        return profit"
   ]
  },
  {
   "cell_type": "code",
   "execution_count": null,
   "id": "cbdae51a",
   "metadata": {},
   "outputs": [],
   "source": []
  },
  {
   "cell_type": "code",
   "execution_count": null,
   "id": "db5ff8e6",
   "metadata": {},
   "outputs": [],
   "source": []
  },
  {
   "cell_type": "code",
   "execution_count": null,
   "id": "b4ea2049",
   "metadata": {},
   "outputs": [],
   "source": []
  }
 ],
 "metadata": {
  "kernelspec": {
   "display_name": "Python 3 (ipykernel)",
   "language": "python",
   "name": "python3"
  },
  "language_info": {
   "codemirror_mode": {
    "name": "ipython",
    "version": 3
   },
   "file_extension": ".py",
   "mimetype": "text/x-python",
   "name": "python",
   "nbconvert_exporter": "python",
   "pygments_lexer": "ipython3",
   "version": "3.7.16"
  }
 },
 "nbformat": 4,
 "nbformat_minor": 5
}
