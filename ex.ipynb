{
 "cells": [
  {
   "cell_type": "markdown",
   "id": "4a062134",
   "metadata": {},
   "source": [
    "В качестве входных данных программа принимает три строки, представляющих собой цифры. Каждая цифра должна быть введена как отдельный символ типа `str`. Программа должна вывести каждую из этих цифр на отдельной строке."
   ]
  },
  {
   "cell_type": "code",
   "execution_count": null,
   "id": "2a031f79",
   "metadata": {},
   "outputs": [],
   "source": [
    "[print(str(input())) for i in range(3)]"
   ]
  },
  {
   "cell_type": "markdown",
   "id": "98524387",
   "metadata": {},
   "source": [
    "Программа принимает на вход строку. Необходимо вывести первые три буквы этой строки."
   ]
  },
  {
   "cell_type": "code",
   "execution_count": 2,
   "id": "d10e3b0d",
   "metadata": {},
   "outputs": [
    {
     "name": "stdout",
     "output_type": "stream",
     "text": [
      "apple\n",
      "app\n"
     ]
    }
   ],
   "source": [
    "a = input()\n",
    "print(a[:3])"
   ]
  },
  {
   "cell_type": "markdown",
   "id": "1caed374",
   "metadata": {},
   "source": [
    "Нам даны два отсортированных массива nums1 и nums2 размером m и n соответственно. \n",
    "\n",
    "Нам нужно объединить эти два массива в один отсортированный массив, а результат хранить внутри nums1. "
   ]
  },
  {
   "cell_type": "code",
   "execution_count": 5,
   "id": "8ddfeaef",
   "metadata": {},
   "outputs": [],
   "source": [
    "# Решение 1\n",
    "\n",
    "class Solution(object):\n",
    "    def merge(self, nums1, m, nums2, n):\n",
    "        i = m - 1\n",
    "        j = n - 1\n",
    "        k = m + n - 1\n",
    "\n",
    "        while j >= 0:\n",
    "            if i >= 0 and nums1[i] > nums2[j]:\n",
    "                nums1[k] = nums1[i]\n",
    "                i -= 1\n",
    "            else:\n",
    "                nums1[k] = nums2[j]\n",
    "                j -= 1\n",
    "            k -= 1"
   ]
  },
  {
   "cell_type": "code",
   "execution_count": null,
   "id": "fd330296",
   "metadata": {},
   "outputs": [],
   "source": [
    "# Решение 2\n",
    "\n",
    "class Solution(object):\n",
    "    def merge(self, nums1, m, nums2, n):\n",
    "      for j in range(n):\n",
    "          nums1[m+j] = nums2[j]\n",
    "      nums1.sort()"
   ]
  },
  {
   "cell_type": "markdown",
   "id": "6455add4",
   "metadata": {},
   "source": [
    "Изменить массив nums так, чтобы первые k элементов nums содержали элементы, не равные val. \n",
    "\n",
    "Вернуть k."
   ]
  },
  {
   "cell_type": "code",
   "execution_count": null,
   "id": "dbe24de7",
   "metadata": {},
   "outputs": [],
   "source": [
    "class Solution(object):\n",
    "    def removeElement(self, nums, val):\n",
    "        k = 0\n",
    "        for i in nums:\n",
    "            if i != val:\n",
    "                nums[k] = i\n",
    "                k += 1\n",
    "        return k"
   ]
  },
  {
   "cell_type": "markdown",
   "id": "ef732496",
   "metadata": {},
   "source": [
    "Изменить отсортированный массив nums таким образом, чтобы первые k элементов nums содержали уникальные элементы в том порядке, в котором они присутствовали в nums изначально. \n",
    "\n",
    "Вернуть k."
   ]
  },
  {
   "cell_type": "code",
   "execution_count": null,
   "id": "84b1c4b0",
   "metadata": {},
   "outputs": [],
   "source": [
    "class Solution(object):\n",
    "    def removeDuplicates(self, nums):\n",
    "        k = 1\n",
    "        for i in range(1, len(nums)):\n",
    "            if nums[i-1] != nums[i]:\n",
    "                nums[k] = nums[i]\n",
    "                k += 1\n",
    "        return k"
   ]
  },
  {
   "cell_type": "markdown",
   "id": "d9d4261b",
   "metadata": {},
   "source": [
    "А теперь чтобы в списке повторяющихся элементов было не больше двух"
   ]
  },
  {
   "cell_type": "code",
   "execution_count": null,
   "id": "3e722d8b",
   "metadata": {},
   "outputs": [],
   "source": [
    "class Solution(object):\n",
    "    def removeDuplicates(self, nums):\n",
    "        k = 1\n",
    "        for i in range(1, len(nums)):\n",
    "            if k==1 or nums[i] != nums[k-2]:\n",
    "                nums[k] = nums[i]\n",
    "                k += 1\n",
    "        return k"
   ]
  },
  {
   "cell_type": "markdown",
   "id": "3c3c6298",
   "metadata": {},
   "source": [
    "Найти число, повторяющееся в списке больше половины раз"
   ]
  },
  {
   "cell_type": "code",
   "execution_count": null,
   "id": "a0f3b841",
   "metadata": {},
   "outputs": [],
   "source": [
    "class Solution(object):\n",
    "    def majorityElement(self, nums):\n",
    "        # Инициализация подсчета и кандидата на большинство\n",
    "        count = 0\n",
    "        majority = 0\n",
    "\n",
    "        # Перемещение по списку\n",
    "        for i in range(len(nums)):\n",
    "            if count == 0 and majority != nums[i]:\n",
    "                # Если счетчик равен 0 и кандидат на большинство отличается от текущего элемента,\n",
    "                # обновите кандидата на большинство и установите счетчик на 1\n",
    "                majority = nums[i]\n",
    "                count += 1\n",
    "            elif majority == nums[i]:\n",
    "                # Если текущий элемент совпадает с кандидатом на большинство,\n",
    "                # увеличить счет\n",
    "                count += 1\n",
    "            else:\n",
    "                # Если текущий элемент отличается от кандидата на большинство,\n",
    "                # уменьшить счет\n",
    "                count -= 1\n",
    "\n",
    "        return majority"
   ]
  },
  {
   "cell_type": "code",
   "execution_count": null,
   "id": "6d2774d6",
   "metadata": {},
   "outputs": [],
   "source": []
  },
  {
   "cell_type": "code",
   "execution_count": null,
   "id": "94bf4f93",
   "metadata": {},
   "outputs": [],
   "source": []
  },
  {
   "cell_type": "code",
   "execution_count": null,
   "id": "9e96d558",
   "metadata": {},
   "outputs": [],
   "source": []
  }
 ],
 "metadata": {
  "kernelspec": {
   "display_name": "Python 3 (ipykernel)",
   "language": "python",
   "name": "python3"
  },
  "language_info": {
   "codemirror_mode": {
    "name": "ipython",
    "version": 3
   },
   "file_extension": ".py",
   "mimetype": "text/x-python",
   "name": "python",
   "nbconvert_exporter": "python",
   "pygments_lexer": "ipython3",
   "version": "3.7.16"
  }
 },
 "nbformat": 4,
 "nbformat_minor": 5
}
