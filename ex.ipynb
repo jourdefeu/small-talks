{
 "cells": [
  {
   "cell_type": "markdown",
   "id": "08a27c95",
   "metadata": {},
   "source": [
    "В качестве входных данных программа принимает три строки, представляющих собой цифры. Каждая цифра должна быть введена как отдельный символ типа `str`. Программа должна вывести каждую из этих цифр на отдельной строке."
   ]
  },
  {
   "cell_type": "code",
   "execution_count": null,
   "id": "021a4b77",
   "metadata": {},
   "outputs": [],
   "source": [
    "[print(str(input())) for i in range(3)]"
   ]
  },
  {
   "cell_type": "markdown",
   "id": "718f16e7",
   "metadata": {},
   "source": [
    "Программа принимает на вход строку. Необходимо вывести первые три буквы этой строки."
   ]
  },
  {
   "cell_type": "code",
   "execution_count": 2,
   "id": "6a5178db",
   "metadata": {},
   "outputs": [
    {
     "name": "stdout",
     "output_type": "stream",
     "text": [
      "apple\n",
      "app\n"
     ]
    }
   ],
   "source": [
    "a = input()\n",
    "print(a[:3])"
   ]
  },
  {
   "cell_type": "markdown",
   "id": "e1667d3a",
   "metadata": {},
   "source": [
    "Нам даны два отсортированных массива nums1 и nums2 размером m и n соответственно. \n",
    "\n",
    "Нам нужно объединить эти два массива в один отсортированный массив, а результат хранить внутри nums1. "
   ]
  },
  {
   "cell_type": "code",
   "execution_count": 5,
   "id": "d286aeec",
   "metadata": {},
   "outputs": [],
   "source": [
    "# Решение 1\n",
    "\n",
    "class Solution(object):\n",
    "    def merge(self, nums1, m, nums2, n):\n",
    "        i = m - 1\n",
    "        j = n - 1\n",
    "        k = m + n - 1\n",
    "\n",
    "        while j >= 0:\n",
    "            if i >= 0 and nums1[i] > nums2[j]:\n",
    "                nums1[k] = nums1[i]\n",
    "                i -= 1\n",
    "            else:\n",
    "                nums1[k] = nums2[j]\n",
    "                j -= 1\n",
    "            k -= 1"
   ]
  },
  {
   "cell_type": "code",
   "execution_count": null,
   "id": "001cd34b",
   "metadata": {},
   "outputs": [],
   "source": [
    "# Решение 2\n",
    "\n",
    "class Solution(object):\n",
    "    def merge(self, nums1, m, nums2, n):\n",
    "      for j in range(n):\n",
    "          nums1[m+j] = nums2[j]\n",
    "      nums1.sort()"
   ]
  },
  {
   "cell_type": "markdown",
   "id": "3597ca51",
   "metadata": {},
   "source": [
    "Изменить массив nums так, чтобы первые k элементов nums содержали элементы, не равные val. \n",
    "\n",
    "Вернуть k."
   ]
  },
  {
   "cell_type": "code",
   "execution_count": null,
   "id": "06d21197",
   "metadata": {},
   "outputs": [],
   "source": [
    "class Solution(object):\n",
    "    def removeElement(self, nums, val):\n",
    "        k = 0\n",
    "        for i in nums:\n",
    "            if i != val:\n",
    "                nums[k] = i\n",
    "                k += 1\n",
    "        return k"
   ]
  },
  {
   "cell_type": "markdown",
   "id": "3fe135da",
   "metadata": {},
   "source": [
    "Изменить отсортированный массив nums таким образом, чтобы первые k элементов nums содержали уникальные элементы в том порядке, в котором они присутствовали в nums изначально. \n",
    "\n",
    "Вернуть k."
   ]
  },
  {
   "cell_type": "code",
   "execution_count": null,
   "id": "3507cda0",
   "metadata": {},
   "outputs": [],
   "source": [
    "class Solution(object):\n",
    "    def removeDuplicates(self, nums):\n",
    "        k = 1\n",
    "        for i in range(1, len(nums)):\n",
    "            if nums[i-1] != nums[i]:\n",
    "                nums[k] = nums[i]\n",
    "                k += 1\n",
    "        return k"
   ]
  },
  {
   "cell_type": "markdown",
   "id": "e22c97cc",
   "metadata": {},
   "source": [
    "А теперь чтобы в списке повторяющихся элементов было не больше двух"
   ]
  },
  {
   "cell_type": "code",
   "execution_count": null,
   "id": "276826da",
   "metadata": {},
   "outputs": [],
   "source": [
    "class Solution(object):\n",
    "    def removeDuplicates(self, nums):\n",
    "        k = 1\n",
    "        for i in range(1, len(nums)):\n",
    "            if k==1 or nums[i] != nums[k-2]:\n",
    "                nums[k] = nums[i]\n",
    "                k += 1\n",
    "        return k"
   ]
  }
 ],
 "metadata": {
  "kernelspec": {
   "display_name": "Python 3 (ipykernel)",
   "language": "python",
   "name": "python3"
  },
  "language_info": {
   "codemirror_mode": {
    "name": "ipython",
    "version": 3
   },
   "file_extension": ".py",
   "mimetype": "text/x-python",
   "name": "python",
   "nbconvert_exporter": "python",
   "pygments_lexer": "ipython3",
   "version": "3.7.16"
  }
 },
 "nbformat": 4,
 "nbformat_minor": 5
}
